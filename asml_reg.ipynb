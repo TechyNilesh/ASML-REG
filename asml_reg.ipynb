{
 "cells": [
  {
   "cell_type": "code",
   "execution_count": 9,
   "id": "86c1a881-2ecb-4539-93ae-cf3adbc8c213",
   "metadata": {},
   "outputs": [],
   "source": [
    "from ASML_REG_BASE import AutoStreamRegressorBase"
   ]
  },
  {
   "cell_type": "code",
   "execution_count": 10,
   "id": "185911d1-71a0-4897-9894-e08d6aea0f99",
   "metadata": {},
   "outputs": [],
   "source": [
    "import psutil\n",
    "import time\n",
    "import json"
   ]
  },
  {
   "cell_type": "code",
   "execution_count": 11,
   "id": "d93ffc03-78f2-4b8a-bf35-44562fbac78e",
   "metadata": {},
   "outputs": [],
   "source": [
    "from capymoa.stream import stream_from_file\n",
    "from capymoa.evaluation import RegressionEvaluator, RegressionWindowedEvaluator"
   ]
  },
  {
   "cell_type": "code",
   "execution_count": 12,
   "id": "49d94113-5d66-4f1a-96a8-5f1c75d94a42",
   "metadata": {},
   "outputs": [],
   "source": [
    "from river import metrics"
   ]
  },
  {
   "cell_type": "code",
   "execution_count": 13,
   "id": "54436fd2-deb3-4ec4-8fc9-ea574ac16904",
   "metadata": {},
   "outputs": [],
   "source": [
    "import warnings\n",
    "warnings.filterwarnings(\"ignore\")"
   ]
  },
  {
   "cell_type": "code",
   "execution_count": 14,
   "id": "6652c840-7b4d-465e-8de7-8ac09ab52528",
   "metadata": {},
   "outputs": [],
   "source": [
    "datasets = [\n",
    "    'ailerons',\n",
    "    'elevators',\n",
    "    'fried',\n",
    "    'hyperA',\n",
    "    'FriedmanGsg',\n",
    "    'FriedmanGra',\n",
    "    'FriedmanLea',\n",
    "    'kin8nm',\n",
    "    'abalone',\n",
    "    'bike',\n",
    "    'House8L',\n",
    "    'MetroTraffic',\n",
    "    'cpu_activity',\n",
    "    'white_wine',\n",
    "]"
   ]
  },
  {
   "cell_type": "code",
   "execution_count": 15,
   "id": "c5211dbd-01a4-4d90-9544-a80f81e9a74e",
   "metadata": {},
   "outputs": [],
   "source": [
    "dataset_name = 'House8L'"
   ]
  },
  {
   "cell_type": "code",
   "execution_count": 16,
   "id": "bbebf757-be24-4bf5-9318-8950ef635364",
   "metadata": {},
   "outputs": [],
   "source": [
    "stream = stream_from_file(f\"RDatasets/{dataset_name}.arff\")"
   ]
  },
  {
   "cell_type": "code",
   "execution_count": 17,
   "id": "db39343d-55ad-417f-a50c-0cc0448ea8d2",
   "metadata": {},
   "outputs": [],
   "source": [
    "regressionEvaluator = RegressionEvaluator(schema=stream.get_schema())\n",
    "regressionWindowedEvaluator = RegressionWindowedEvaluator(schema=stream.get_schema(),window_size=1000)"
   ]
  },
  {
   "cell_type": "code",
   "execution_count": 18,
   "id": "c3db8372-9879-407f-9042-b849d848c307",
   "metadata": {},
   "outputs": [],
   "source": [
    "ASR = AutoStreamRegressor(config_dict=None, # config_dict\n",
    "    exploration_window=1000, # Window Size\n",
    "    prediction_mode=\"ensemble\", #change 'best' or 'ensemble' if you want best model prediction \n",
    "    budget=10, # How many pipelines run concurrently\n",
    "    ensemble_size=5, # Ensemble size \n",
    "    metric=metrics.RMSE(), # Online metrics\n",
    "    feature_selection = True,\n",
    "    aggregation_method='mean', #mean, median\n",
    "    verbose=False,\n",
    "    seed=42) # Random/Fixed seed"
   ]
  },
  {
   "cell_type": "code",
   "execution_count": 19,
   "id": "650d1f73-1b81-4336-8659-68b01a2f27ef",
   "metadata": {},
   "outputs": [
    {
     "data": {
      "text/plain": [
       "10"
      ]
     },
     "execution_count": 19,
     "metadata": {},
     "output_type": "execute_result"
    }
   ],
   "source": [
    "len(ASR.pipeline_list)"
   ]
  },
  {
   "cell_type": "code",
   "execution_count": 20,
   "id": "ff1551f8-c72e-442d-b492-5ebe943c03ec",
   "metadata": {},
   "outputs": [
    {
     "name": "stdout",
     "output_type": "stream",
     "text": [
      "Running Instance **1000**\n",
      "R2 score - 0.31154\n",
      "RMSE score - 45728.8709\n",
      "----------------------------------------\n",
      "Running Instance **2000**\n",
      "R2 score - 0.39142\n",
      "RMSE score - 42640.03237\n",
      "----------------------------------------\n",
      "Running Instance **3000**\n",
      "R2 score - 0.39079\n",
      "RMSE score - 42879.81441\n",
      "----------------------------------------\n",
      "Running Instance **4000**\n",
      "R2 score - 0.41877\n",
      "RMSE score - 41441.28271\n",
      "----------------------------------------\n",
      "Running Instance **5000**\n",
      "R2 score - 0.43607\n",
      "RMSE score - 40994.05065\n",
      "----------------------------------------\n",
      "Running Instance **6000**\n",
      "R2 score - 0.45205\n",
      "RMSE score - 40395.38571\n",
      "----------------------------------------\n",
      "Running Instance **7000**\n",
      "R2 score - 0.46047\n",
      "RMSE score - 39699.35023\n",
      "----------------------------------------\n",
      "Running Instance **8000**\n",
      "R2 score - 0.46125\n",
      "RMSE score - 39240.46741\n",
      "----------------------------------------\n",
      "Running Instance **9000**\n",
      "R2 score - 0.46555\n",
      "RMSE score - 39027.19623\n",
      "----------------------------------------\n",
      "Running Instance **10000**\n",
      "R2 score - 0.4709\n",
      "RMSE score - 39070.50099\n",
      "----------------------------------------\n",
      "Running Instance **11000**\n",
      "R2 score - 0.47904\n",
      "RMSE score - 38826.30755\n",
      "----------------------------------------\n",
      "Running Instance **12000**\n",
      "R2 score - 0.4775\n",
      "RMSE score - 38912.70703\n",
      "----------------------------------------\n",
      "Running Instance **13000**\n",
      "R2 score - 0.48339\n",
      "RMSE score - 38263.99819\n",
      "----------------------------------------\n",
      "Running Instance **14000**\n",
      "R2 score - 0.48696\n",
      "RMSE score - 38113.27692\n",
      "----------------------------------------\n",
      "Running Instance **15000**\n",
      "R2 score - 0.49151\n",
      "RMSE score - 37766.51972\n",
      "----------------------------------------\n",
      "Running Instance **16000**\n",
      "R2 score - 0.49942\n",
      "RMSE score - 37695.78953\n",
      "----------------------------------------\n",
      "Running Instance **17000**\n",
      "R2 score - 0.50094\n",
      "RMSE score - 37687.70624\n",
      "----------------------------------------\n",
      "Running Instance **18000**\n",
      "R2 score - 0.50149\n",
      "RMSE score - 37485.90115\n",
      "----------------------------------------\n",
      "Running Instance **19000**\n",
      "R2 score - 0.50175\n",
      "RMSE score - 37448.26692\n",
      "----------------------------------------\n",
      "Running Instance **20000**\n",
      "R2 score - 0.50414\n",
      "RMSE score - 37172.84055\n",
      "----------------------------------------\n",
      "Running Instance **21000**\n",
      "R2 score - 0.50904\n",
      "RMSE score - 36997.71541\n",
      "----------------------------------------\n",
      "Running Instance **22000**\n",
      "R2 score - 0.51108\n",
      "RMSE score - 37084.55049\n",
      "----------------------------------------\n",
      "CPU times: user 9min 27s, sys: 8.37 s, total: 9min 35s\n",
      "Wall time: 9min 44s\n"
     ]
    }
   ],
   "source": [
    "%%time\n",
    "t=0\n",
    "times = []\n",
    "memories = []\n",
    "#track_pipes = []\n",
    "while stream.has_more_instances():\n",
    "    instance = stream.next_instance()\n",
    "    x = dict(enumerate(instance.x))\n",
    "    mem_before = psutil.Process().memory_info().rss # Recording Memory\n",
    "    start = time.time()  # Recording Time\n",
    "    #print(f\"true: {instance.y_value}\")\n",
    "    prediction = ASR.predict_one(x)\n",
    "    #print(f\"y_true: {instance.y_value}, y_pred: {prediction}\")\n",
    "    regressionEvaluator.update(instance.y_value, prediction)\n",
    "    regressionWindowedEvaluator.update(instance.y_value, prediction)\n",
    "    ASR.learn_one(x, instance.y_value)\n",
    "    end = time.time()\n",
    "    mem_after = psutil.Process().memory_info().rss\n",
    "    iteration_mem = mem_after - mem_before\n",
    "    memories.append(iteration_mem)\n",
    "    iteration_time = end - start\n",
    "    times.append(iteration_time)\n",
    "    ASR.update_interpret_info(regressionEvaluator.metrics_dict(), ASR.best_model, y_pred=prediction,y_true=instance.y_value)\n",
    "    t+=1\n",
    "    print(f\"Running Instance....{t}\",end='\\r')\n",
    "    if t%1000==0:\n",
    "        print(f\"Running Instance **{t}**\")\n",
    "        print(f\"R2 score - {round(regressionEvaluator.R2(),5)}\")\n",
    "        print(f\"RMSE score - {round(regressionEvaluator.RMSE(),5)}\")\n",
    "        print(\"-\"*40)"
   ]
  },
  {
   "cell_type": "code",
   "execution_count": 21,
   "id": "f8f7d8df-862a-4872-893e-454ba10a487a",
   "metadata": {},
   "outputs": [
    {
     "data": {
      "text/plain": [
       "{'classified instances': 22784.0,\n",
       " 'mean absolute error': 18774.263616816173,\n",
       " 'root mean squared error': 36925.76600480967,\n",
       " 'relative mean absolute error': 0.5770462985001581,\n",
       " 'relative root mean squared error': 0.6985527135734008,\n",
       " 'coefficient of determination': 0.5120241063592383,\n",
       " 'adjusted coefficient of determination': 0.5118312643884485}"
      ]
     },
     "execution_count": 21,
     "metadata": {},
     "output_type": "execute_result"
    }
   ],
   "source": [
    "regressionEvaluator.metrics_dict()"
   ]
  },
  {
   "cell_type": "code",
   "execution_count": 22,
   "id": "d6d0332f-2856-451e-a2d8-ccc1b2a1bc0a",
   "metadata": {},
   "outputs": [
    {
     "data": {
      "text/html": [
       "<div>\n",
       "<style scoped>\n",
       "    .dataframe tbody tr th:only-of-type {\n",
       "        vertical-align: middle;\n",
       "    }\n",
       "\n",
       "    .dataframe tbody tr th {\n",
       "        vertical-align: top;\n",
       "    }\n",
       "\n",
       "    .dataframe thead th {\n",
       "        text-align: right;\n",
       "    }\n",
       "</style>\n",
       "<table border=\"1\" class=\"dataframe\">\n",
       "  <thead>\n",
       "    <tr style=\"text-align: right;\">\n",
       "      <th></th>\n",
       "      <th>classified instances</th>\n",
       "      <th>mean absolute error</th>\n",
       "      <th>root mean squared error</th>\n",
       "      <th>relative mean absolute error</th>\n",
       "      <th>relative root mean squared error</th>\n",
       "      <th>coefficient of determination</th>\n",
       "      <th>adjusted coefficient of determination</th>\n",
       "    </tr>\n",
       "  </thead>\n",
       "  <tbody>\n",
       "    <tr>\n",
       "      <th>0</th>\n",
       "      <td>1000.0</td>\n",
       "      <td>21766.111131</td>\n",
       "      <td>45728.870899</td>\n",
       "      <td>0.700935</td>\n",
       "      <td>0.831313</td>\n",
       "      <td>0.308919</td>\n",
       "      <td>0.302637</td>\n",
       "    </tr>\n",
       "    <tr>\n",
       "      <th>1</th>\n",
       "      <td>1000.0</td>\n",
       "      <td>20797.509469</td>\n",
       "      <td>39309.223948</td>\n",
       "      <td>0.602888</td>\n",
       "      <td>0.725505</td>\n",
       "      <td>0.473643</td>\n",
       "      <td>0.468858</td>\n",
       "    </tr>\n",
       "    <tr>\n",
       "      <th>2</th>\n",
       "      <td>1000.0</td>\n",
       "      <td>21934.707982</td>\n",
       "      <td>43355.400248</td>\n",
       "      <td>0.641944</td>\n",
       "      <td>0.781018</td>\n",
       "      <td>0.390011</td>\n",
       "      <td>0.384466</td>\n",
       "    </tr>\n",
       "    <tr>\n",
       "      <th>3</th>\n",
       "      <td>1000.0</td>\n",
       "      <td>19070.507671</td>\n",
       "      <td>36789.729528</td>\n",
       "      <td>0.578680</td>\n",
       "      <td>0.699389</td>\n",
       "      <td>0.510854</td>\n",
       "      <td>0.506408</td>\n",
       "    </tr>\n",
       "    <tr>\n",
       "      <th>4</th>\n",
       "      <td>1000.0</td>\n",
       "      <td>19408.609489</td>\n",
       "      <td>39154.071231</td>\n",
       "      <td>0.591147</td>\n",
       "      <td>0.704837</td>\n",
       "      <td>0.503205</td>\n",
       "      <td>0.498689</td>\n",
       "    </tr>\n",
       "    <tr>\n",
       "      <th>5</th>\n",
       "      <td>1000.0</td>\n",
       "      <td>18493.796798</td>\n",
       "      <td>37258.048471</td>\n",
       "      <td>0.555113</td>\n",
       "      <td>0.683731</td>\n",
       "      <td>0.532511</td>\n",
       "      <td>0.528261</td>\n",
       "    </tr>\n",
       "    <tr>\n",
       "      <th>6</th>\n",
       "      <td>1000.0</td>\n",
       "      <td>17783.475567</td>\n",
       "      <td>35235.574927</td>\n",
       "      <td>0.551519</td>\n",
       "      <td>0.693313</td>\n",
       "      <td>0.519317</td>\n",
       "      <td>0.514947</td>\n",
       "    </tr>\n",
       "    <tr>\n",
       "      <th>7</th>\n",
       "      <td>1000.0</td>\n",
       "      <td>18736.558056</td>\n",
       "      <td>35864.263574</td>\n",
       "      <td>0.606364</td>\n",
       "      <td>0.729422</td>\n",
       "      <td>0.467943</td>\n",
       "      <td>0.463106</td>\n",
       "    </tr>\n",
       "    <tr>\n",
       "      <th>8</th>\n",
       "      <td>1000.0</td>\n",
       "      <td>18163.158658</td>\n",
       "      <td>37277.126361</td>\n",
       "      <td>0.571607</td>\n",
       "      <td>0.706674</td>\n",
       "      <td>0.500612</td>\n",
       "      <td>0.496072</td>\n",
       "    </tr>\n",
       "    <tr>\n",
       "      <th>9</th>\n",
       "      <td>1000.0</td>\n",
       "      <td>18651.784895</td>\n",
       "      <td>39458.105131</td>\n",
       "      <td>0.576000</td>\n",
       "      <td>0.696882</td>\n",
       "      <td>0.514355</td>\n",
       "      <td>0.509940</td>\n",
       "    </tr>\n",
       "    <tr>\n",
       "      <th>10</th>\n",
       "      <td>1000.0</td>\n",
       "      <td>18274.598262</td>\n",
       "      <td>36294.121615</td>\n",
       "      <td>0.552313</td>\n",
       "      <td>0.664666</td>\n",
       "      <td>0.558219</td>\n",
       "      <td>0.554203</td>\n",
       "    </tr>\n",
       "    <tr>\n",
       "      <th>11</th>\n",
       "      <td>1000.0</td>\n",
       "      <td>20037.826607</td>\n",
       "      <td>39850.740081</td>\n",
       "      <td>0.589663</td>\n",
       "      <td>0.734102</td>\n",
       "      <td>0.461094</td>\n",
       "      <td>0.456195</td>\n",
       "    </tr>\n",
       "    <tr>\n",
       "      <th>12</th>\n",
       "      <td>1000.0</td>\n",
       "      <td>15530.694819</td>\n",
       "      <td>29382.835521</td>\n",
       "      <td>0.539124</td>\n",
       "      <td>0.647036</td>\n",
       "      <td>0.581345</td>\n",
       "      <td>0.577539</td>\n",
       "    </tr>\n",
       "    <tr>\n",
       "      <th>13</th>\n",
       "      <td>1000.0</td>\n",
       "      <td>18458.383840</td>\n",
       "      <td>36096.676364</td>\n",
       "      <td>0.581471</td>\n",
       "      <td>0.681926</td>\n",
       "      <td>0.534977</td>\n",
       "      <td>0.530750</td>\n",
       "    </tr>\n",
       "    <tr>\n",
       "      <th>14</th>\n",
       "      <td>1000.0</td>\n",
       "      <td>17940.602480</td>\n",
       "      <td>32526.049315</td>\n",
       "      <td>0.557836</td>\n",
       "      <td>0.658688</td>\n",
       "      <td>0.566130</td>\n",
       "      <td>0.562186</td>\n",
       "    </tr>\n",
       "    <tr>\n",
       "      <th>15</th>\n",
       "      <td>1000.0</td>\n",
       "      <td>19044.260208</td>\n",
       "      <td>36618.446131</td>\n",
       "      <td>0.549912</td>\n",
       "      <td>0.633026</td>\n",
       "      <td>0.599279</td>\n",
       "      <td>0.595636</td>\n",
       "    </tr>\n",
       "    <tr>\n",
       "      <th>16</th>\n",
       "      <td>1000.0</td>\n",
       "      <td>19314.264349</td>\n",
       "      <td>37558.136958</td>\n",
       "      <td>0.574538</td>\n",
       "      <td>0.689138</td>\n",
       "      <td>0.525088</td>\n",
       "      <td>0.520771</td>\n",
       "    </tr>\n",
       "    <tr>\n",
       "      <th>17</th>\n",
       "      <td>1000.0</td>\n",
       "      <td>17210.790971</td>\n",
       "      <td>33871.753843</td>\n",
       "      <td>0.555037</td>\n",
       "      <td>0.697759</td>\n",
       "      <td>0.513133</td>\n",
       "      <td>0.508707</td>\n",
       "    </tr>\n",
       "    <tr>\n",
       "      <th>18</th>\n",
       "      <td>1000.0</td>\n",
       "      <td>18095.896260</td>\n",
       "      <td>36764.263571</td>\n",
       "      <td>0.576333</td>\n",
       "      <td>0.701707</td>\n",
       "      <td>0.507607</td>\n",
       "      <td>0.503131</td>\n",
       "    </tr>\n",
       "    <tr>\n",
       "      <th>19</th>\n",
       "      <td>1000.0</td>\n",
       "      <td>17191.034802</td>\n",
       "      <td>31485.239189</td>\n",
       "      <td>0.573925</td>\n",
       "      <td>0.662876</td>\n",
       "      <td>0.560595</td>\n",
       "      <td>0.556601</td>\n",
       "    </tr>\n",
       "    <tr>\n",
       "      <th>20</th>\n",
       "      <td>1000.0</td>\n",
       "      <td>17740.634667</td>\n",
       "      <td>33302.377657</td>\n",
       "      <td>0.541490</td>\n",
       "      <td>0.626882</td>\n",
       "      <td>0.607018</td>\n",
       "      <td>0.603446</td>\n",
       "    </tr>\n",
       "    <tr>\n",
       "      <th>21</th>\n",
       "      <td>1000.0</td>\n",
       "      <td>20605.302414</td>\n",
       "      <td>38863.294082</td>\n",
       "      <td>0.582182</td>\n",
       "      <td>0.673507</td>\n",
       "      <td>0.546389</td>\n",
       "      <td>0.542265</td>\n",
       "    </tr>\n",
       "  </tbody>\n",
       "</table>\n",
       "</div>"
      ],
      "text/plain": [
       "    classified instances  mean absolute error  root mean squared error  \\\n",
       "0                 1000.0         21766.111131             45728.870899   \n",
       "1                 1000.0         20797.509469             39309.223948   \n",
       "2                 1000.0         21934.707982             43355.400248   \n",
       "3                 1000.0         19070.507671             36789.729528   \n",
       "4                 1000.0         19408.609489             39154.071231   \n",
       "5                 1000.0         18493.796798             37258.048471   \n",
       "6                 1000.0         17783.475567             35235.574927   \n",
       "7                 1000.0         18736.558056             35864.263574   \n",
       "8                 1000.0         18163.158658             37277.126361   \n",
       "9                 1000.0         18651.784895             39458.105131   \n",
       "10                1000.0         18274.598262             36294.121615   \n",
       "11                1000.0         20037.826607             39850.740081   \n",
       "12                1000.0         15530.694819             29382.835521   \n",
       "13                1000.0         18458.383840             36096.676364   \n",
       "14                1000.0         17940.602480             32526.049315   \n",
       "15                1000.0         19044.260208             36618.446131   \n",
       "16                1000.0         19314.264349             37558.136958   \n",
       "17                1000.0         17210.790971             33871.753843   \n",
       "18                1000.0         18095.896260             36764.263571   \n",
       "19                1000.0         17191.034802             31485.239189   \n",
       "20                1000.0         17740.634667             33302.377657   \n",
       "21                1000.0         20605.302414             38863.294082   \n",
       "\n",
       "    relative mean absolute error  relative root mean squared error  \\\n",
       "0                       0.700935                          0.831313   \n",
       "1                       0.602888                          0.725505   \n",
       "2                       0.641944                          0.781018   \n",
       "3                       0.578680                          0.699389   \n",
       "4                       0.591147                          0.704837   \n",
       "5                       0.555113                          0.683731   \n",
       "6                       0.551519                          0.693313   \n",
       "7                       0.606364                          0.729422   \n",
       "8                       0.571607                          0.706674   \n",
       "9                       0.576000                          0.696882   \n",
       "10                      0.552313                          0.664666   \n",
       "11                      0.589663                          0.734102   \n",
       "12                      0.539124                          0.647036   \n",
       "13                      0.581471                          0.681926   \n",
       "14                      0.557836                          0.658688   \n",
       "15                      0.549912                          0.633026   \n",
       "16                      0.574538                          0.689138   \n",
       "17                      0.555037                          0.697759   \n",
       "18                      0.576333                          0.701707   \n",
       "19                      0.573925                          0.662876   \n",
       "20                      0.541490                          0.626882   \n",
       "21                      0.582182                          0.673507   \n",
       "\n",
       "    coefficient of determination  adjusted coefficient of determination  \n",
       "0                       0.308919                               0.302637  \n",
       "1                       0.473643                               0.468858  \n",
       "2                       0.390011                               0.384466  \n",
       "3                       0.510854                               0.506408  \n",
       "4                       0.503205                               0.498689  \n",
       "5                       0.532511                               0.528261  \n",
       "6                       0.519317                               0.514947  \n",
       "7                       0.467943                               0.463106  \n",
       "8                       0.500612                               0.496072  \n",
       "9                       0.514355                               0.509940  \n",
       "10                      0.558219                               0.554203  \n",
       "11                      0.461094                               0.456195  \n",
       "12                      0.581345                               0.577539  \n",
       "13                      0.534977                               0.530750  \n",
       "14                      0.566130                               0.562186  \n",
       "15                      0.599279                               0.595636  \n",
       "16                      0.525088                               0.520771  \n",
       "17                      0.513133                               0.508707  \n",
       "18                      0.507607                               0.503131  \n",
       "19                      0.560595                               0.556601  \n",
       "20                      0.607018                               0.603446  \n",
       "21                      0.546389                               0.542265  "
      ]
     },
     "execution_count": 22,
     "metadata": {},
     "output_type": "execute_result"
    }
   ],
   "source": [
    "regressionWindowedEvaluator.metrics_per_window()"
   ]
  },
  {
   "cell_type": "code",
   "execution_count": 23,
   "id": "cb4b9c94-1748-4c07-b5a3-f372a71ab700",
   "metadata": {},
   "outputs": [
    {
     "data": {
      "text/plain": [
       "0.4"
      ]
     },
     "execution_count": 23,
     "metadata": {},
     "output_type": "execute_result"
    }
   ],
   "source": [
    "ASR.new_pipeline_probability"
   ]
  },
  {
   "cell_type": "code",
   "execution_count": 25,
   "id": "751f0ecc-caf4-4a6e-a2a7-00780bc7091e",
   "metadata": {},
   "outputs": [
    {
     "data": {
      "text/plain": [
       "RMSE: 46,807.584684"
      ]
     },
     "execution_count": 25,
     "metadata": {},
     "output_type": "execute_result"
    }
   ],
   "source": [
    "ASR.current_score"
   ]
  },
  {
   "cell_type": "code",
   "execution_count": 26,
   "id": "8c256ff5-7429-4629-87e3-ef73a524eaa2",
   "metadata": {},
   "outputs": [],
   "source": [
    "df = ASR.get_interpret_info()"
   ]
  },
  {
   "cell_type": "code",
   "execution_count": 56,
   "id": "d0eb8f29-788f-4d06-977f-3f7741a1a3a8",
   "metadata": {},
   "outputs": [],
   "source": [
    "import pandas as pd"
   ]
  },
  {
   "cell_type": "code",
   "execution_count": 57,
   "id": "fd8ef937-fbf0-44b0-8b02-870bad9ad35a",
   "metadata": {},
   "outputs": [],
   "source": [
    "df = pd.read_csv(\"House8L_Tarck.csv\")"
   ]
  },
  {
   "cell_type": "code",
   "execution_count": 58,
   "id": "a4006edd-77f0-4d54-8ea0-f5a60ab2798e",
   "metadata": {},
   "outputs": [],
   "source": [
    "#df.to_csv(f\"{dataset_name}_Tarck.csv\")"
   ]
  },
  {
   "cell_type": "code",
   "execution_count": 59,
   "id": "0ed8a2ef-0bd4-4010-8522-edbaa4d247c6",
   "metadata": {},
   "outputs": [
    {
     "data": {
      "text/html": [
       "<div>\n",
       "<style scoped>\n",
       "    .dataframe tbody tr th:only-of-type {\n",
       "        vertical-align: middle;\n",
       "    }\n",
       "\n",
       "    .dataframe tbody tr th {\n",
       "        vertical-align: top;\n",
       "    }\n",
       "\n",
       "    .dataframe thead th {\n",
       "        text-align: right;\n",
       "    }\n",
       "</style>\n",
       "<table border=\"1\" class=\"dataframe\">\n",
       "  <thead>\n",
       "    <tr style=\"text-align: right;\">\n",
       "      <th></th>\n",
       "      <th>Unnamed: 0</th>\n",
       "      <th>instance</th>\n",
       "      <th>pipeline</th>\n",
       "      <th>pre_hyper</th>\n",
       "      <th>feature_hyper</th>\n",
       "      <th>model_hyper</th>\n",
       "      <th>mean absolute error</th>\n",
       "      <th>root mean squared error</th>\n",
       "      <th>relative mean absolute error</th>\n",
       "      <th>relative root mean squared error</th>\n",
       "      <th>coefficient of determination</th>\n",
       "      <th>adjusted coefficient of determination</th>\n",
       "    </tr>\n",
       "  </thead>\n",
       "  <tbody>\n",
       "    <tr>\n",
       "      <th>0</th>\n",
       "      <td>0</td>\n",
       "      <td>1000</td>\n",
       "      <td>('MinMaxScaler', 'AdaptiveRandomForestRegressor')</td>\n",
       "      <td>{}</td>\n",
       "      <td>NaN</td>\n",
       "      <td>{'n_models': 3, 'max_depth': 10, 'aggregation_...</td>\n",
       "      <td>21305.445958</td>\n",
       "      <td>44798.682297</td>\n",
       "      <td>0.681252</td>\n",
       "      <td>0.812858</td>\n",
       "      <td>0.339262</td>\n",
       "      <td>0.333256</td>\n",
       "    </tr>\n",
       "    <tr>\n",
       "      <th>1</th>\n",
       "      <td>1</td>\n",
       "      <td>2000</td>\n",
       "      <td>('MinMaxScaler', 'AdaptiveRandomForestRegressor')</td>\n",
       "      <td>{}</td>\n",
       "      <td>NaN</td>\n",
       "      <td>{'n_models': 4, 'max_depth': 10, 'aggregation_...</td>\n",
       "      <td>20717.115587</td>\n",
       "      <td>41838.850694</td>\n",
       "      <td>0.634686</td>\n",
       "      <td>0.765457</td>\n",
       "      <td>0.414076</td>\n",
       "      <td>0.411426</td>\n",
       "    </tr>\n",
       "    <tr>\n",
       "      <th>2</th>\n",
       "      <td>2</td>\n",
       "      <td>3000</td>\n",
       "      <td>('MinMaxScaler', 'AdaptiveRandomForestRegressor')</td>\n",
       "      <td>{}</td>\n",
       "      <td>NaN</td>\n",
       "      <td>{'n_models': 3, 'max_depth': 10, 'aggregation_...</td>\n",
       "      <td>20620.571873</td>\n",
       "      <td>41396.534810</td>\n",
       "      <td>0.622213</td>\n",
       "      <td>0.753517</td>\n",
       "      <td>0.432212</td>\n",
       "      <td>0.430503</td>\n",
       "    </tr>\n",
       "    <tr>\n",
       "      <th>3</th>\n",
       "      <td>3</td>\n",
       "      <td>4000</td>\n",
       "      <td>('MinMaxScaler', 'AdaptiveRandomForestRegressor')</td>\n",
       "      <td>{}</td>\n",
       "      <td>NaN</td>\n",
       "      <td>{'n_models': 3, 'max_depth': 10, 'aggregation_...</td>\n",
       "      <td>20198.397381</td>\n",
       "      <td>40323.332351</td>\n",
       "      <td>0.611991</td>\n",
       "      <td>0.741821</td>\n",
       "      <td>0.449702</td>\n",
       "      <td>0.448461</td>\n",
       "    </tr>\n",
       "    <tr>\n",
       "      <th>4</th>\n",
       "      <td>4</td>\n",
       "      <td>5000</td>\n",
       "      <td>('MinMaxScaler', 'AdaptiveRandomForestRegressor')</td>\n",
       "      <td>{}</td>\n",
       "      <td>NaN</td>\n",
       "      <td>{'n_models': 8, 'max_depth': 40, 'aggregation_...</td>\n",
       "      <td>19893.029937</td>\n",
       "      <td>39781.276831</td>\n",
       "      <td>0.602381</td>\n",
       "      <td>0.728736</td>\n",
       "      <td>0.468944</td>\n",
       "      <td>0.467987</td>\n",
       "    </tr>\n",
       "    <tr>\n",
       "      <th>5</th>\n",
       "      <td>5</td>\n",
       "      <td>6000</td>\n",
       "      <td>('MinMaxScaler', 'AdaptiveRandomForestRegressor')</td>\n",
       "      <td>{}</td>\n",
       "      <td>NaN</td>\n",
       "      <td>{'n_models': 8, 'max_depth': 40, 'aggregation_...</td>\n",
       "      <td>19793.500129</td>\n",
       "      <td>39501.911429</td>\n",
       "      <td>0.598358</td>\n",
       "      <td>0.723864</td>\n",
       "      <td>0.476021</td>\n",
       "      <td>0.475234</td>\n",
       "    </tr>\n",
       "    <tr>\n",
       "      <th>6</th>\n",
       "      <td>6</td>\n",
       "      <td>7000</td>\n",
       "      <td>('MinMaxScaler', 'AdaptiveRandomForestRegressor')</td>\n",
       "      <td>{}</td>\n",
       "      <td>NaN</td>\n",
       "      <td>{'n_models': 8, 'max_depth': 40, 'aggregation_...</td>\n",
       "      <td>19569.528632</td>\n",
       "      <td>38786.264280</td>\n",
       "      <td>0.592655</td>\n",
       "      <td>0.717634</td>\n",
       "      <td>0.485001</td>\n",
       "      <td>0.484338</td>\n",
       "    </tr>\n",
       "    <tr>\n",
       "      <th>7</th>\n",
       "      <td>7</td>\n",
       "      <td>8000</td>\n",
       "      <td>('MinMaxScaler', 'SelectKBest', 'AdaptiveRando...</td>\n",
       "      <td>{}</td>\n",
       "      <td>{'k': 10}</td>\n",
       "      <td>{'n_models': 3, 'max_depth': 10, 'aggregation_...</td>\n",
       "      <td>19437.868296</td>\n",
       "      <td>38355.804725</td>\n",
       "      <td>0.592498</td>\n",
       "      <td>0.717446</td>\n",
       "      <td>0.485271</td>\n",
       "      <td>0.484691</td>\n",
       "    </tr>\n",
       "    <tr>\n",
       "      <th>8</th>\n",
       "      <td>8</td>\n",
       "      <td>9000</td>\n",
       "      <td>('MinMaxScaler', 'SelectKBest', 'AdaptiveRando...</td>\n",
       "      <td>{}</td>\n",
       "      <td>{'k': 10}</td>\n",
       "      <td>{'n_models': 3, 'max_depth': 10, 'aggregation_...</td>\n",
       "      <td>19312.573372</td>\n",
       "      <td>38299.817841</td>\n",
       "      <td>0.589836</td>\n",
       "      <td>0.717433</td>\n",
       "      <td>0.485289</td>\n",
       "      <td>0.484774</td>\n",
       "    </tr>\n",
       "    <tr>\n",
       "      <th>9</th>\n",
       "      <td>9</td>\n",
       "      <td>10000</td>\n",
       "      <td>('MinMaxScaler', 'SelectKBest', 'AdaptiveRando...</td>\n",
       "      <td>{}</td>\n",
       "      <td>{'k': 10}</td>\n",
       "      <td>{'n_models': 3, 'max_depth': 10, 'aggregation_...</td>\n",
       "      <td>19209.695378</td>\n",
       "      <td>38333.445270</td>\n",
       "      <td>0.586838</td>\n",
       "      <td>0.713670</td>\n",
       "      <td>0.490675</td>\n",
       "      <td>0.490216</td>\n",
       "    </tr>\n",
       "    <tr>\n",
       "      <th>10</th>\n",
       "      <td>10</td>\n",
       "      <td>11000</td>\n",
       "      <td>('MaxAbsScaler', 'SelectKBest', 'AdaptiveRando...</td>\n",
       "      <td>{}</td>\n",
       "      <td>{'k': 10}</td>\n",
       "      <td>{'n_models': 3, 'max_depth': 10, 'aggregation_...</td>\n",
       "      <td>19129.265784</td>\n",
       "      <td>38080.135610</td>\n",
       "      <td>0.583953</td>\n",
       "      <td>0.707907</td>\n",
       "      <td>0.498867</td>\n",
       "      <td>0.498457</td>\n",
       "    </tr>\n",
       "    <tr>\n",
       "      <th>11</th>\n",
       "      <td>11</td>\n",
       "      <td>12000</td>\n",
       "      <td>('MaxAbsScaler', 'SelectKBest', 'AdaptiveRando...</td>\n",
       "      <td>{}</td>\n",
       "      <td>{'k': 10}</td>\n",
       "      <td>{'n_models': 4, 'max_depth': 30, 'aggregation_...</td>\n",
       "      <td>19141.001790</td>\n",
       "      <td>38090.462363</td>\n",
       "      <td>0.582917</td>\n",
       "      <td>0.707570</td>\n",
       "      <td>0.499345</td>\n",
       "      <td>0.498969</td>\n",
       "    </tr>\n",
       "    <tr>\n",
       "      <th>12</th>\n",
       "      <td>12</td>\n",
       "      <td>13000</td>\n",
       "      <td>('MaxAbsScaler', 'SelectKBest', 'AdaptiveRando...</td>\n",
       "      <td>{}</td>\n",
       "      <td>{'k': 7}</td>\n",
       "      <td>{'n_models': 4, 'max_depth': 30, 'aggregation_...</td>\n",
       "      <td>18839.844670</td>\n",
       "      <td>37428.610560</td>\n",
       "      <td>0.577899</td>\n",
       "      <td>0.703064</td>\n",
       "      <td>0.505701</td>\n",
       "      <td>0.505359</td>\n",
       "    </tr>\n",
       "    <tr>\n",
       "      <th>13</th>\n",
       "      <td>13</td>\n",
       "      <td>14000</td>\n",
       "      <td>('MaxAbsScaler', 'SelectKBest', 'AdaptiveRando...</td>\n",
       "      <td>{}</td>\n",
       "      <td>{'k': 7}</td>\n",
       "      <td>{'n_models': 4, 'max_depth': 30, 'aggregation_...</td>\n",
       "      <td>18782.423732</td>\n",
       "      <td>37282.235032</td>\n",
       "      <td>0.576594</td>\n",
       "      <td>0.700653</td>\n",
       "      <td>0.509086</td>\n",
       "      <td>0.508770</td>\n",
       "    </tr>\n",
       "    <tr>\n",
       "      <th>14</th>\n",
       "      <td>14</td>\n",
       "      <td>15000</td>\n",
       "      <td>('MinMaxScaler', 'KNNRegressor')</td>\n",
       "      <td>{}</td>\n",
       "      <td>NaN</td>\n",
       "      <td>{'n_neighbors': 2, 'window_size': 1000, 'aggre...</td>\n",
       "      <td>18727.637531</td>\n",
       "      <td>36958.396181</td>\n",
       "      <td>0.575594</td>\n",
       "      <td>0.697823</td>\n",
       "      <td>0.513043</td>\n",
       "      <td>0.512750</td>\n",
       "    </tr>\n",
       "    <tr>\n",
       "      <th>15</th>\n",
       "      <td>15</td>\n",
       "      <td>16000</td>\n",
       "      <td>('MinMaxScaler', 'KNNRegressor')</td>\n",
       "      <td>{}</td>\n",
       "      <td>NaN</td>\n",
       "      <td>{'n_neighbors': 6, 'window_size': 1000, 'aggre...</td>\n",
       "      <td>18714.794165</td>\n",
       "      <td>36905.633755</td>\n",
       "      <td>0.573778</td>\n",
       "      <td>0.692685</td>\n",
       "      <td>0.520187</td>\n",
       "      <td>0.519917</td>\n",
       "    </tr>\n",
       "    <tr>\n",
       "      <th>16</th>\n",
       "      <td>16</td>\n",
       "      <td>17000</td>\n",
       "      <td>('MinMaxScaler', 'KNNRegressor')</td>\n",
       "      <td>{}</td>\n",
       "      <td>NaN</td>\n",
       "      <td>{'n_neighbors': 6, 'window_size': 1000, 'aggre...</td>\n",
       "      <td>18702.611408</td>\n",
       "      <td>36913.471739</td>\n",
       "      <td>0.572734</td>\n",
       "      <td>0.691932</td>\n",
       "      <td>0.521230</td>\n",
       "      <td>0.520976</td>\n",
       "    </tr>\n",
       "    <tr>\n",
       "      <th>17</th>\n",
       "      <td>17</td>\n",
       "      <td>18000</td>\n",
       "      <td>('MinMaxScaler', 'KNNRegressor')</td>\n",
       "      <td>{}</td>\n",
       "      <td>NaN</td>\n",
       "      <td>{'n_neighbors': 14, 'window_size': 900, 'aggre...</td>\n",
       "      <td>18618.714560</td>\n",
       "      <td>36699.309985</td>\n",
       "      <td>0.571742</td>\n",
       "      <td>0.691235</td>\n",
       "      <td>0.522194</td>\n",
       "      <td>0.521955</td>\n",
       "    </tr>\n",
       "    <tr>\n",
       "      <th>18</th>\n",
       "      <td>18</td>\n",
       "      <td>19000</td>\n",
       "      <td>('MinMaxScaler', 'KNNRegressor')</td>\n",
       "      <td>{}</td>\n",
       "      <td>NaN</td>\n",
       "      <td>{'n_neighbors': 8, 'window_size': 700, 'aggreg...</td>\n",
       "      <td>18555.607659</td>\n",
       "      <td>36658.820313</td>\n",
       "      <td>0.569932</td>\n",
       "      <td>0.690986</td>\n",
       "      <td>0.522539</td>\n",
       "      <td>0.522312</td>\n",
       "    </tr>\n",
       "    <tr>\n",
       "      <th>19</th>\n",
       "      <td>19</td>\n",
       "      <td>20000</td>\n",
       "      <td>('MinMaxScaler', 'KNNRegressor')</td>\n",
       "      <td>{}</td>\n",
       "      <td>NaN</td>\n",
       "      <td>{'n_neighbors': 8, 'window_size': 700, 'aggreg...</td>\n",
       "      <td>18468.273567</td>\n",
       "      <td>36408.229774</td>\n",
       "      <td>0.569209</td>\n",
       "      <td>0.689689</td>\n",
       "      <td>0.524329</td>\n",
       "      <td>0.524115</td>\n",
       "    </tr>\n",
       "    <tr>\n",
       "      <th>20</th>\n",
       "      <td>20</td>\n",
       "      <td>21000</td>\n",
       "      <td>('MinMaxScaler', 'KNNRegressor')</td>\n",
       "      <td>{}</td>\n",
       "      <td>NaN</td>\n",
       "      <td>{'n_neighbors': 8, 'window_size': 700, 'aggreg...</td>\n",
       "      <td>18416.734567</td>\n",
       "      <td>36250.157743</td>\n",
       "      <td>0.567233</td>\n",
       "      <td>0.686529</td>\n",
       "      <td>0.528678</td>\n",
       "      <td>0.528476</td>\n",
       "    </tr>\n",
       "    <tr>\n",
       "      <th>21</th>\n",
       "      <td>21</td>\n",
       "      <td>22000</td>\n",
       "      <td>('MinMaxScaler', 'KNNRegressor')</td>\n",
       "      <td>{}</td>\n",
       "      <td>NaN</td>\n",
       "      <td>{'n_neighbors': 8, 'window_size': 700, 'aggreg...</td>\n",
       "      <td>18494.283421</td>\n",
       "      <td>36380.888230</td>\n",
       "      <td>0.567656</td>\n",
       "      <td>0.685961</td>\n",
       "      <td>0.529457</td>\n",
       "      <td>0.529264</td>\n",
       "    </tr>\n",
       "  </tbody>\n",
       "</table>\n",
       "</div>"
      ],
      "text/plain": [
       "    Unnamed: 0  instance                                           pipeline  \\\n",
       "0            0      1000  ('MinMaxScaler', 'AdaptiveRandomForestRegressor')   \n",
       "1            1      2000  ('MinMaxScaler', 'AdaptiveRandomForestRegressor')   \n",
       "2            2      3000  ('MinMaxScaler', 'AdaptiveRandomForestRegressor')   \n",
       "3            3      4000  ('MinMaxScaler', 'AdaptiveRandomForestRegressor')   \n",
       "4            4      5000  ('MinMaxScaler', 'AdaptiveRandomForestRegressor')   \n",
       "5            5      6000  ('MinMaxScaler', 'AdaptiveRandomForestRegressor')   \n",
       "6            6      7000  ('MinMaxScaler', 'AdaptiveRandomForestRegressor')   \n",
       "7            7      8000  ('MinMaxScaler', 'SelectKBest', 'AdaptiveRando...   \n",
       "8            8      9000  ('MinMaxScaler', 'SelectKBest', 'AdaptiveRando...   \n",
       "9            9     10000  ('MinMaxScaler', 'SelectKBest', 'AdaptiveRando...   \n",
       "10          10     11000  ('MaxAbsScaler', 'SelectKBest', 'AdaptiveRando...   \n",
       "11          11     12000  ('MaxAbsScaler', 'SelectKBest', 'AdaptiveRando...   \n",
       "12          12     13000  ('MaxAbsScaler', 'SelectKBest', 'AdaptiveRando...   \n",
       "13          13     14000  ('MaxAbsScaler', 'SelectKBest', 'AdaptiveRando...   \n",
       "14          14     15000                   ('MinMaxScaler', 'KNNRegressor')   \n",
       "15          15     16000                   ('MinMaxScaler', 'KNNRegressor')   \n",
       "16          16     17000                   ('MinMaxScaler', 'KNNRegressor')   \n",
       "17          17     18000                   ('MinMaxScaler', 'KNNRegressor')   \n",
       "18          18     19000                   ('MinMaxScaler', 'KNNRegressor')   \n",
       "19          19     20000                   ('MinMaxScaler', 'KNNRegressor')   \n",
       "20          20     21000                   ('MinMaxScaler', 'KNNRegressor')   \n",
       "21          21     22000                   ('MinMaxScaler', 'KNNRegressor')   \n",
       "\n",
       "   pre_hyper feature_hyper                                        model_hyper  \\\n",
       "0         {}           NaN  {'n_models': 3, 'max_depth': 10, 'aggregation_...   \n",
       "1         {}           NaN  {'n_models': 4, 'max_depth': 10, 'aggregation_...   \n",
       "2         {}           NaN  {'n_models': 3, 'max_depth': 10, 'aggregation_...   \n",
       "3         {}           NaN  {'n_models': 3, 'max_depth': 10, 'aggregation_...   \n",
       "4         {}           NaN  {'n_models': 8, 'max_depth': 40, 'aggregation_...   \n",
       "5         {}           NaN  {'n_models': 8, 'max_depth': 40, 'aggregation_...   \n",
       "6         {}           NaN  {'n_models': 8, 'max_depth': 40, 'aggregation_...   \n",
       "7         {}     {'k': 10}  {'n_models': 3, 'max_depth': 10, 'aggregation_...   \n",
       "8         {}     {'k': 10}  {'n_models': 3, 'max_depth': 10, 'aggregation_...   \n",
       "9         {}     {'k': 10}  {'n_models': 3, 'max_depth': 10, 'aggregation_...   \n",
       "10        {}     {'k': 10}  {'n_models': 3, 'max_depth': 10, 'aggregation_...   \n",
       "11        {}     {'k': 10}  {'n_models': 4, 'max_depth': 30, 'aggregation_...   \n",
       "12        {}      {'k': 7}  {'n_models': 4, 'max_depth': 30, 'aggregation_...   \n",
       "13        {}      {'k': 7}  {'n_models': 4, 'max_depth': 30, 'aggregation_...   \n",
       "14        {}           NaN  {'n_neighbors': 2, 'window_size': 1000, 'aggre...   \n",
       "15        {}           NaN  {'n_neighbors': 6, 'window_size': 1000, 'aggre...   \n",
       "16        {}           NaN  {'n_neighbors': 6, 'window_size': 1000, 'aggre...   \n",
       "17        {}           NaN  {'n_neighbors': 14, 'window_size': 900, 'aggre...   \n",
       "18        {}           NaN  {'n_neighbors': 8, 'window_size': 700, 'aggreg...   \n",
       "19        {}           NaN  {'n_neighbors': 8, 'window_size': 700, 'aggreg...   \n",
       "20        {}           NaN  {'n_neighbors': 8, 'window_size': 700, 'aggreg...   \n",
       "21        {}           NaN  {'n_neighbors': 8, 'window_size': 700, 'aggreg...   \n",
       "\n",
       "    mean absolute error  root mean squared error  \\\n",
       "0          21305.445958             44798.682297   \n",
       "1          20717.115587             41838.850694   \n",
       "2          20620.571873             41396.534810   \n",
       "3          20198.397381             40323.332351   \n",
       "4          19893.029937             39781.276831   \n",
       "5          19793.500129             39501.911429   \n",
       "6          19569.528632             38786.264280   \n",
       "7          19437.868296             38355.804725   \n",
       "8          19312.573372             38299.817841   \n",
       "9          19209.695378             38333.445270   \n",
       "10         19129.265784             38080.135610   \n",
       "11         19141.001790             38090.462363   \n",
       "12         18839.844670             37428.610560   \n",
       "13         18782.423732             37282.235032   \n",
       "14         18727.637531             36958.396181   \n",
       "15         18714.794165             36905.633755   \n",
       "16         18702.611408             36913.471739   \n",
       "17         18618.714560             36699.309985   \n",
       "18         18555.607659             36658.820313   \n",
       "19         18468.273567             36408.229774   \n",
       "20         18416.734567             36250.157743   \n",
       "21         18494.283421             36380.888230   \n",
       "\n",
       "    relative mean absolute error  relative root mean squared error  \\\n",
       "0                       0.681252                          0.812858   \n",
       "1                       0.634686                          0.765457   \n",
       "2                       0.622213                          0.753517   \n",
       "3                       0.611991                          0.741821   \n",
       "4                       0.602381                          0.728736   \n",
       "5                       0.598358                          0.723864   \n",
       "6                       0.592655                          0.717634   \n",
       "7                       0.592498                          0.717446   \n",
       "8                       0.589836                          0.717433   \n",
       "9                       0.586838                          0.713670   \n",
       "10                      0.583953                          0.707907   \n",
       "11                      0.582917                          0.707570   \n",
       "12                      0.577899                          0.703064   \n",
       "13                      0.576594                          0.700653   \n",
       "14                      0.575594                          0.697823   \n",
       "15                      0.573778                          0.692685   \n",
       "16                      0.572734                          0.691932   \n",
       "17                      0.571742                          0.691235   \n",
       "18                      0.569932                          0.690986   \n",
       "19                      0.569209                          0.689689   \n",
       "20                      0.567233                          0.686529   \n",
       "21                      0.567656                          0.685961   \n",
       "\n",
       "    coefficient of determination  adjusted coefficient of determination  \n",
       "0                       0.339262                               0.333256  \n",
       "1                       0.414076                               0.411426  \n",
       "2                       0.432212                               0.430503  \n",
       "3                       0.449702                               0.448461  \n",
       "4                       0.468944                               0.467987  \n",
       "5                       0.476021                               0.475234  \n",
       "6                       0.485001                               0.484338  \n",
       "7                       0.485271                               0.484691  \n",
       "8                       0.485289                               0.484774  \n",
       "9                       0.490675                               0.490216  \n",
       "10                      0.498867                               0.498457  \n",
       "11                      0.499345                               0.498969  \n",
       "12                      0.505701                               0.505359  \n",
       "13                      0.509086                               0.508770  \n",
       "14                      0.513043                               0.512750  \n",
       "15                      0.520187                               0.519917  \n",
       "16                      0.521230                               0.520976  \n",
       "17                      0.522194                               0.521955  \n",
       "18                      0.522539                               0.522312  \n",
       "19                      0.524329                               0.524115  \n",
       "20                      0.528678                               0.528476  \n",
       "21                      0.529457                               0.529264  "
      ]
     },
     "execution_count": 59,
     "metadata": {},
     "output_type": "execute_result"
    }
   ],
   "source": [
    "df"
   ]
  },
  {
   "cell_type": "code",
   "execution_count": 23,
   "id": "d8794d26-7d81-41ad-a33d-7479884d093f",
   "metadata": {},
   "outputs": [],
   "source": [
    "# saving results in dict\n",
    "save_record = {\n",
    "    \"model\": 'ASML_REG_PWHNS', #AB -  AUTO- BUDGET ADJUSTMENT #IPUL =  INCRSE PROBABILTY UPPER LOWER\n",
    "    \"dataset\": dataset_name,\n",
    "    \"regressionEvaluator\": regressionEvaluator.metrics_dict(),\n",
    "    \"windows_scores\": regressionWindowedEvaluator.metrics_per_window().to_dict(orient='list'),\n",
    "    \"time\": times,\n",
    "    \"memory\": memories\n",
    "}"
   ]
  },
  {
   "cell_type": "code",
   "execution_count": 24,
   "id": "7d51edc6-6d72-4271-8562-48587afb019e",
   "metadata": {},
   "outputs": [],
   "source": [
    "file_name = f\"{save_record['model']}_{save_record['dataset']}.json\""
   ]
  },
  {
   "cell_type": "code",
   "execution_count": 25,
   "id": "4a380026-fc95-4d55-beed-178e05090aaf",
   "metadata": {},
   "outputs": [
    {
     "data": {
      "text/plain": [
       "'ASML_REG_NProb_ailerons.json'"
      ]
     },
     "execution_count": 25,
     "metadata": {},
     "output_type": "execute_result"
    }
   ],
   "source": [
    "file_name"
   ]
  },
  {
   "cell_type": "code",
   "execution_count": 56,
   "id": "4b18b79a-8758-4a94-b87e-a03db789e423",
   "metadata": {},
   "outputs": [],
   "source": [
    "# To store the dictionary in a JSON file\n",
    "with open(f\"ABLATION_TEMP/{file_name}\", 'w') as json_file:  # change temp to  saved_results_json for final run\n",
    "    json.dump(save_record, json_file)"
   ]
  },
  {
   "cell_type": "code",
   "execution_count": 29,
   "id": "c560cde3-f841-4432-a899-8d0a25c17822",
   "metadata": {},
   "outputs": [
    {
     "name": "stdout",
     "output_type": "stream",
     "text": [
      "Name: river\n",
      "Version: 0.10.1\n",
      "Summary: Online machine learning in Python\n",
      "Home-page: https://github.com/online-ml/river\n",
      "Author: Max Halford\n",
      "Author-email: maxhalford25@gmail.com\n",
      "License: BSD-3\n",
      "Location: /Users/nv78/opt/miniconda3/lib/python3.9/site-packages\n",
      "Requires: numpy, pandas, scipy\n",
      "Required-by: EvOAutoML\n"
     ]
    }
   ],
   "source": [
    "!pip show river"
   ]
  },
  {
   "cell_type": "code",
   "execution_count": 60,
   "id": "d3a29edd-a254-49bf-8574-94cc9fab6e5e",
   "metadata": {},
   "outputs": [],
   "source": [
    "import ast"
   ]
  },
  {
   "cell_type": "code",
   "execution_count": 61,
   "id": "5069b9bc-5d16-4e16-8f62-f65d17c37622",
   "metadata": {},
   "outputs": [],
   "source": [
    "dp_track = df.instance.to_list()"
   ]
  },
  {
   "cell_type": "code",
   "execution_count": 62,
   "id": "5523639f-5ec9-4a9a-a5eb-79a85c613245",
   "metadata": {},
   "outputs": [
    {
     "data": {
      "text/plain": [
       "[1000,\n",
       " 2000,\n",
       " 3000,\n",
       " 4000,\n",
       " 5000,\n",
       " 6000,\n",
       " 7000,\n",
       " 8000,\n",
       " 9000,\n",
       " 10000,\n",
       " 11000,\n",
       " 12000,\n",
       " 13000,\n",
       " 14000,\n",
       " 15000,\n",
       " 16000,\n",
       " 17000,\n",
       " 18000,\n",
       " 19000,\n",
       " 20000,\n",
       " 21000,\n",
       " 22000]"
      ]
     },
     "execution_count": 62,
     "metadata": {},
     "output_type": "execute_result"
    }
   ],
   "source": [
    "dp_track"
   ]
  },
  {
   "cell_type": "code",
   "execution_count": 64,
   "id": "c6b85c51-5633-4103-ae11-7c1c7d5aa848",
   "metadata": {},
   "outputs": [],
   "source": [
    "algo_track = []\n",
    "for pipe, k in zip(df.pipeline.to_list(), df.feature_hyper.to_list()):\n",
    "    pipe = ast.literal_eval(pipe)\n",
    "    if pd.notna(k):\n",
    "        pass\n",
    "        k = ast.literal_eval(k)\n",
    "    if len(pipe)==3:\n",
    "        p,f,c = pipe\n",
    "        if len(k)!=0:\n",
    "            f+=f\"(k={k['k']})\"\n",
    "        algo_track.append(\n",
    "            \" | \".join([p,f,c])\n",
    "        )\n",
    "    else:\n",
    "        p,c = pipe\n",
    "        algo_track.append(\n",
    "            \" | \".join([p,c])\n",
    "        )"
   ]
  },
  {
   "cell_type": "code",
   "execution_count": 34,
   "id": "b9b724e0-6986-4ef3-a094-2403c816bb20",
   "metadata": {},
   "outputs": [],
   "source": [
    "#algo_track = [\" | \".join(pipe)for pipe, k in zip(df.pipeline.to_list(), df.feature_hyper.to_list())]"
   ]
  },
  {
   "cell_type": "code",
   "execution_count": 65,
   "id": "ccac0d66-8f86-497c-9eee-e03fea22336c",
   "metadata": {},
   "outputs": [
    {
     "data": {
      "text/plain": [
       "{'MaxAbsScaler | SelectKBest(k=10) | AdaptiveRandomForestRegressor',\n",
       " 'MaxAbsScaler | SelectKBest(k=7) | AdaptiveRandomForestRegressor',\n",
       " 'MinMaxScaler | AdaptiveRandomForestRegressor',\n",
       " 'MinMaxScaler | KNNRegressor',\n",
       " 'MinMaxScaler | SelectKBest(k=10) | AdaptiveRandomForestRegressor'}"
      ]
     },
     "execution_count": 65,
     "metadata": {},
     "output_type": "execute_result"
    }
   ],
   "source": [
    "set(algo_track)"
   ]
  },
  {
   "cell_type": "code",
   "execution_count": 66,
   "id": "271c7844-fa2d-4e82-8e18-f020419b188f",
   "metadata": {},
   "outputs": [],
   "source": [
    "score_track =  df['root mean squared error'].to_list()"
   ]
  },
  {
   "cell_type": "code",
   "execution_count": 67,
   "id": "237fc57b-12ed-4d78-8bc6-f24c700d88ec",
   "metadata": {},
   "outputs": [],
   "source": [
    "file_name = 'asml_pipe_track_' + dataset_name"
   ]
  },
  {
   "cell_type": "code",
   "execution_count": 68,
   "id": "4a18fcfb-92d8-454e-a586-dd20c3ee6438",
   "metadata": {},
   "outputs": [
    {
     "data": {
      "text/plain": [
       "'asml_pipe_track_House8L'"
      ]
     },
     "execution_count": 68,
     "metadata": {},
     "output_type": "execute_result"
    }
   ],
   "source": [
    "file_name"
   ]
  },
  {
   "cell_type": "code",
   "execution_count": 69,
   "id": "f3fcb95d-114f-42cb-b7ce-133df3b27ef1",
   "metadata": {},
   "outputs": [
    {
     "data": {
      "text/plain": [
       "[1000]"
      ]
     },
     "execution_count": 69,
     "metadata": {},
     "output_type": "execute_result"
    }
   ],
   "source": [
    "[val for i, val in enumerate(dp_track) if i%1000==0]"
   ]
  },
  {
   "cell_type": "code",
   "execution_count": 70,
   "id": "75f4d634-e1d4-45c0-894f-f5b9ce7f2ae7",
   "metadata": {},
   "outputs": [],
   "source": [
    "#plt.rcParams[\"font.family\"] = \"Times New Roman\""
   ]
  },
  {
   "cell_type": "code",
   "execution_count": 71,
   "id": "688cb89a-9aad-4b7c-877d-9d3d404fc73c",
   "metadata": {},
   "outputs": [],
   "source": [
    "from matplotlib import rcParams"
   ]
  },
  {
   "cell_type": "code",
   "execution_count": 72,
   "id": "ba8749c0-d9b7-4c55-b4e7-83612ad3c936",
   "metadata": {},
   "outputs": [],
   "source": [
    "# Set the font to Times New Roman\n",
    "rcParams['font.family'] = 'serif'\n",
    "rcParams['font.serif'] = ['Times New Roman']"
   ]
  },
  {
   "cell_type": "code",
   "execution_count": 73,
   "id": "3e07ce15-0a9d-4dad-91bf-1279c7d0f39a",
   "metadata": {},
   "outputs": [],
   "source": [
    "rcParams['font.weight'] = 'bold'\n",
    "rcParams['axes.titleweight'] = 'bold'\n",
    "rcParams['axes.labelweight'] = 'bold'"
   ]
  },
  {
   "cell_type": "code",
   "execution_count": 74,
   "id": "998b2589-9700-4e73-8653-3a14a65a9a32",
   "metadata": {},
   "outputs": [],
   "source": [
    "rcParams['axes.titlesize'] = 18\n",
    "rcParams['axes.labelsize'] = 18\n",
    "rcParams['xtick.labelsize'] = 18\n",
    "rcParams['ytick.labelsize'] = 18\n",
    "rcParams['legend.fontsize'] = 18"
   ]
  },
  {
   "cell_type": "code",
   "execution_count": 77,
   "id": "0a641fa5-9828-4606-b070-082ef035a0b0",
   "metadata": {},
   "outputs": [
    {
     "data": {
      "image/png": "[encoded data removed]",
      "text/plain": [
       "<Figure size 1200x600 with 1 Axes>"
      ]
     },
     "metadata": {},
     "output_type": "display_data"
    }
   ],
   "source": [
    "import matplotlib.pyplot as plt\n",
    "import numpy as np\n",
    "import random\n",
    "\n",
    "# Data points\n",
    "x = dp_track #[val for i, val in enumerate(dp_track) if i%1000==0][1:]\n",
    "\n",
    "# Algorithms \n",
    "algorithms = algo_track#[val for i, val in enumerate(algo_track) if i%1000==0][1:]#algo_track\n",
    "\n",
    "# Scores\n",
    "y = score_track#[val for i, val in enumerate(score_track) if i%1000==0][1:]#score_track\n",
    "\n",
    "# Get unique algorithms\n",
    "unique_algorithms = set(algorithms)\n",
    "\n",
    "colors = ['#d62728', '#2ca02c', '#1f77b4', '#ff7f0e', '#9467bd',\n",
    "'#8c564b', '#e377c2', '#7f7f7f', '#bcbd22', '#17becf',\n",
    "'#4c78bf', '#f2bc49', '#67da91']\n",
    "line_styles = ['-', '--', '-.', ':', '-', '--', '-.', ':', '-', '--',\n",
    "'-.', ':', '-']\n",
    "\n",
    "# Generate color map\n",
    "color_map = {}\n",
    "for i,algo in enumerate(unique_algorithms):\n",
    "    color_map[algo] = colors[i]\n",
    "    \n",
    "# Plot    \n",
    "fig, ax = plt.subplots(figsize = (12, 6))\n",
    "\n",
    "for i in range(len(x)):\n",
    "    if i == 0:\n",
    "        ax.plot(x[i], y[i], color=color_map[algorithms[i]]) \n",
    "    else:\n",
    "        ax.plot([x[i-1], x[i]], [y[i-1], y[i]], color=color_map[algorithms[i]],linewidth=2.0,marker='o')\n",
    "\n",
    "# Create legend    \n",
    "handles = [plt.Line2D([0,1],[0,1], color=color_map[algo],marker='o') for algo in unique_algorithms] \n",
    "#ax.legend(handles, unique_algorithms,fontsize=8, ncol=7, loc='upper center', bbox_to_anchor=(0.5, 1.07))\n",
    "ax.legend(handles, unique_algorithms,fontsize=18)\n",
    "#plt.grid(True, linestyle='--', alpha=0.7)\n",
    "        \n",
    "ax.set_xlabel('#Instances (in thousands)',fontsize=18)\n",
    "ax.set_ylabel('Prequential RMSE',fontsize=18)\n",
    "#ax.set_title(db_name,fontsize=14,y=1.06)\n",
    "\n",
    "plt.tight_layout()\n",
    "plt.savefig(f'CHARTS/{file_name}.png', dpi=300)\n",
    "       \n",
    "plt.show()"
   ]
  },
  {
   "cell_type": "code",
   "execution_count": 40,
   "id": "8309a57c-ac6d-4071-a8eb-3e70253cd724",
   "metadata": {},
   "outputs": [
    {
     "data": {
      "text/plain": [
       "'pred_vs_true_line_plot_bike'"
      ]
     },
     "execution_count": 40,
     "metadata": {},
     "output_type": "execute_result"
    }
   ],
   "source": [
    "file_name = 'pred_vs_true_line_plot_' + dataset_name\n",
    "file_name"
   ]
  },
  {
   "cell_type": "code",
   "execution_count": 41,
   "id": "c23fe8d3-75f2-48a8-8562-a5084597ba0a",
   "metadata": {},
   "outputs": [
    {
     "data": {
      "image/png": "[encoded data removed]",
      "text/plain": [
       "<Figure size 1000x600 with 1 Axes>"
      ]
     },
     "metadata": {},
     "output_type": "display_data"
    }
   ],
   "source": [
    "import matplotlib.pyplot as plt\n",
    "\n",
    "# Sample data\n",
    "y_true = [val for i, val in enumerate(df.y_true) if i%1000==0][1:] \n",
    "y_pred = [val for i, val in enumerate(df.y_pred) if i%1000==0][1:] \n",
    "\n",
    "# Create a scatter plot\n",
    "plt.figure(figsize=(10, 6))\n",
    "plt.scatter(y_true, y_pred, color='blue', label='Predicted vs True')\n",
    "plt.plot([min(y_true), max(y_true)], [min(y_true), max(y_true)], color='red', linestyle='--', label='Perfect Prediction Line')\n",
    "\n",
    "# Add labels and title\n",
    "plt.xlabel('True Values')\n",
    "plt.ylabel('Predicted Values')\n",
    "#plt.title('True Values vs Predicted Values')\n",
    "plt.legend()\n",
    "\n",
    "plt.tight_layout()\n",
    "plt.savefig(f'CHARTS/{file_name}.png', dpi=300)\n",
    "\n",
    "# Show plot\n",
    "#plt.grid(True)\n",
    "plt.show()"
   ]
  },
  {
   "cell_type": "raw",
   "id": "3242c67a-f23f-4ef9-8dde-384434bfc736",
   "metadata": {},
   "source": [
    "import matplotlib.pyplot as plt\n",
    "\n",
    "# Sample data\n",
    "probability_scores = [val for i, val in enumerate(df.search_probablity) if i%1000==0][1:]\n",
    "x_values = range(len(probability_scores))  # X values representing the indices of the scores\n",
    "\n",
    "# Create a line chart\n",
    "plt.figure(figsize=(10, 6))\n",
    "plt.plot(x_values, probability_scores, marker='o', linestyle='-', color='b')\n",
    "\n",
    "# Add title and labels\n",
    "#plt.title('Search Probability')\n",
    "plt.xlabel('#Instances (in thousands)',fontsize=14)\n",
    "plt.ylabel('Search Probability',fontsize=14)\n",
    "\n",
    "# Set y-axis range from 0 to 1\n",
    "plt.ylim(0, 1.1)\n",
    "\n",
    "# Set tick parameters to font size 14\n",
    "plt.xticks(fontsize=14)\n",
    "plt.yticks(fontsize=14)\n",
    "\n",
    "# Display the grid\n",
    "#plt.grid(True)\n",
    "\n",
    "# Show the plot\n",
    "plt.show()"
   ]
  },
  {
   "cell_type": "code",
   "execution_count": 42,
   "id": "50c850b8-8ca6-4034-addf-3aac04431efa",
   "metadata": {},
   "outputs": [
    {
     "data": {
      "text/plain": [
       "'Auto_Budgeting_bike'"
      ]
     },
     "execution_count": 42,
     "metadata": {},
     "output_type": "execute_result"
    }
   ],
   "source": [
    "file_name = 'Auto_Budgeting_' + dataset_name\n",
    "file_name"
   ]
  },
  {
   "cell_type": "code",
   "execution_count": 43,
   "id": "a4cbb792-fa6b-4cb8-be7d-1d26b2ae5a70",
   "metadata": {},
   "outputs": [
    {
     "data": {
      "image/png": "[encoded data removed]",
      "text/plain": [
       "<Figure size 1000x600 with 2 Axes>"
      ]
     },
     "metadata": {},
     "output_type": "display_data"
    }
   ],
   "source": [
    "import matplotlib.pyplot as plt\n",
    "\n",
    "# Sample data\n",
    "probability_scores = [val for i, val in enumerate(df.search_probablity) if i%1000==0][1:]\n",
    "rmse_score  = [val for i, val in enumerate(df['root mean squared error']) if i%1000==0][1:]\n",
    "x_values = range(len(probability_scores))  # X values representing the indices of the scores\n",
    "\n",
    "# Create a line chart\n",
    "fig, ax1 = plt.subplots(figsize=(10, 6))\n",
    "\n",
    "# Plot probability scores on the primary y-axis\n",
    "ax1.plot(x_values, probability_scores, marker='o', linestyle='-', color='b', label='New Pipe Search Probability')\n",
    "ax1.set_xlabel('#Instances (in thousands)', fontsize=14)\n",
    "ax1.set_ylabel('Probability Score', fontsize=14, color='b')\n",
    "ax1.set_ylim(0, 1.1)\n",
    "ax1.tick_params(axis='y', labelcolor='b', labelsize=14)\n",
    "ax1.tick_params(axis='x', labelsize=14)\n",
    "\n",
    "# Create a secondary y-axis for RMSE scores\n",
    "ax2 = ax1.twinx()\n",
    "ax2.plot(x_values, rmse_score, marker='x', linestyle='-', color='r', label='RMSE Score')\n",
    "ax2.set_ylabel('RMSE Score', fontsize=14, color='r')\n",
    "ax2.tick_params(axis='y', labelcolor='r', labelsize=14)\n",
    "\n",
    "# Add legends\n",
    "fig.legend(loc=\"upper left\", bbox_to_anchor=(0.57,0.16), bbox_transform=ax1.transAxes, fontsize=14)\n",
    "\n",
    "plt.tight_layout()\n",
    "plt.savefig(f'CHARTS/{file_name}.png', dpi=300)\n",
    "\n",
    "# Show the plot\n",
    "plt.show()"
   ]
  },
  {
   "cell_type": "code",
   "execution_count": 5,
   "id": "a1371c7c-8ed0-4139-ac57-16094314b23a",
   "metadata": {},
   "outputs": [],
   "source": [
    "import numpy as np"
   ]
  },
  {
   "cell_type": "code",
   "execution_count": 17,
   "id": "496250c7-58e5-432d-aae7-8e3472bd3d27",
   "metadata": {},
   "outputs": [
    {
     "data": {
      "text/plain": [
       "-1.2292387130105373"
      ]
     },
     "execution_count": 17,
     "metadata": {},
     "output_type": "execute_result"
    }
   ],
   "source": [
    "np.random.normal(0,1)"
   ]
  },
  {
   "cell_type": "code",
   "execution_count": 18,
   "id": "42626e7c-4cae-4732-9461-4a02bb91cce9",
   "metadata": {},
   "outputs": [
    {
     "data": {
      "text/plain": [
       "0"
      ]
     },
     "execution_count": 18,
     "metadata": {},
     "output_type": "execute_result"
    }
   ],
   "source": [
    "np.argmax([-2,-3])"
   ]
  },
  {
   "cell_type": "code",
   "execution_count": 19,
   "id": "b5444977-0d79-4d07-95f9-e0463fe38bbb",
   "metadata": {},
   "outputs": [
    {
     "data": {
      "text/plain": [
       "6"
      ]
     },
     "execution_count": 19,
     "metadata": {},
     "output_type": "execute_result"
    }
   ],
   "source": [
    "np.random.binomial(10, 0.8)"
   ]
  },
  {
   "cell_type": "code",
   "execution_count": 32,
   "id": "7234a80c-c902-4ccb-92aa-60f04f71c491",
   "metadata": {},
   "outputs": [],
   "source": [
    "def softmax(x):\n",
    "    \"\"\"Compute softmax values for each set of scores in x.\"\"\"\n",
    "    e_x = [np.math.exp(i) for i in x]\n",
    "    sum_e_x = sum(e_x)\n",
    "    return [i / sum_e_x for i in e_x]"
   ]
  },
  {
   "cell_type": "code",
   "execution_count": 21,
   "id": "1b113014-954d-45cc-920f-1ba2fbbdf9ad",
   "metadata": {},
   "outputs": [],
   "source": [
    "def _pwhs(current_value, values_list):\n",
    "    print(f\"Current Value: {current_value}\")\n",
    "    print(f\"Values List: {values_list}\")\n",
    "    \n",
    "    current_index = values_list.index(current_value)\n",
    "    lower_values_list = values_list[:current_index]\n",
    "    upper_values_list = values_list[current_index+1:]\n",
    "    print(f\"Lower Values List: {lower_values_list}\")\n",
    "    print(f\"Upper Values List: {upper_values_list}\")\n",
    "    \n",
    "    if len(lower_values_list) == 0:\n",
    "        lower_values_list = [current_value]\n",
    "    \n",
    "    if len(upper_values_list) == 0:\n",
    "        upper_values_list = [current_value]\n",
    "    \n",
    "    lower_values = np.random.choice(lower_values_list)\n",
    "    upper_values = np.random.choice(upper_values_list)\n",
    "    print(f\"Random Lower Value: {lower_values}, Random Upper Value: {upper_values}\")\n",
    "    \n",
    "    # Calculate the negative distance from the current value to the lower and upper values\n",
    "    distance_lower = -(current_value - lower_values)    \n",
    "    distance_upper = -(upper_values - current_value)\n",
    "    print(f\"Distance Lower: {distance_lower}, Distance Upper: {distance_upper}\")\n",
    "    \n",
    "    # create a probability distribution based on the distance\n",
    "    prob = softmax([distance_lower,distance_upper])#[1/(distance_lower+1), 1/(distance_upper+1)]\n",
    "    print(f\"Probabilities: {prob}\")\n",
    "    \n",
    "    nearby_option = np.random.choice([lower_values,upper_values], p=prob)\n",
    "    \n",
    "    print(f\"New Value: {nearby_option}\")"
   ]
  },
  {
   "cell_type": "code",
   "execution_count": 40,
   "id": "b2502833-1c2c-40e7-b834-00e9f283df10",
   "metadata": {},
   "outputs": [],
   "source": [
    "def _pwhs(current_value, values_list):\n",
    "    \n",
    "    current_value_index = values_list.index(current_value)\n",
    "    print(f\"Current Value Index: {current_value_index}\")\n",
    "    print(f\"Current Value: {current_value}\")\n",
    "    print(f\"Values List: {values_list}\")\n",
    "    \n",
    "    #calculate a negative distance from the current value to the all other values from the list\n",
    "    distances = [abs(current_value - value) for value in values_list]\n",
    "    print(f\"Distances: {distances}\")\n",
    "\n",
    "    transformed_distances = [1 / (dist + 1) for dist in distances]\n",
    "    \n",
    "    #create a probability distribution based on the distance\n",
    "    prob = softmax(transformed_distances)\n",
    "    print(f\"Probabilities: {prob}\")\n",
    "    \n",
    "    #select a new value based on the probability distribution\n",
    "    new_value = np.random.choice(values_list, p=prob)\n",
    "    print(f\"New Value: {new_value}\")\n",
    "    \n",
    "    return new_value"
   ]
  },
  {
   "cell_type": "code",
   "execution_count": 1,
   "id": "73d70425-cf4b-4c66-bad1-1d8cb10b8be3",
   "metadata": {},
   "outputs": [],
   "source": [
    "def _pwhs(current_value, values_list):\n",
    "    print(f\"Current Value: {current_value}\")\n",
    "    print(f\"Values List: {values_list}\")\n",
    "    \n",
    "    try:\n",
    "\n",
    "        # Calculate the distances from the current value\n",
    "        distances = [abs(current_value - value) for value in values_list]\n",
    "        \n",
    "        print(\"Distances: \", distances)\n",
    "\n",
    "        # Apply a non-linear transformation to the distances\n",
    "        transformed_distances = [1 / (dist + 1) for dist in distances]\n",
    "        print(\"Transformed Distances: \", transformed_distances)\n",
    "\n",
    "        # Normalize the transformed distances to get probabilities\n",
    "        prob = [dist / sum(transformed_distances) for dist in transformed_distances]\n",
    "        print(\"Probabilities: \", prob)\n",
    "\n",
    "        # Select a new value based on the probability distribution\n",
    "        new_value = np.random.choice(values_list, p=prob)\n",
    "        print(f\"New Value: {new_value}\")\n",
    "    except:\n",
    "        new_value = np.random.choice(values_list)\n",
    "        print(f\"Error: {new_value}\")\n",
    "    \n",
    "    return new_value"
   ]
  },
  {
   "cell_type": "code",
   "execution_count": 82,
   "id": "40f4a170-62ba-4a72-afac-cec7f1f69a5b",
   "metadata": {},
   "outputs": [],
   "source": [
    "from scipy.stats import gaussian_kde\n",
    "def _pwhs(current_value, values_list):\n",
    "    try:\n",
    "        if isinstance(current_value, int) or isinstance(current_value, float):\n",
    "            # Convert the list to a NumPy array\n",
    "            values = np.asarray(values_list)\n",
    "\n",
    "            #print(values)\n",
    "            \n",
    "            # Fit a Gaussian KDE to the values\n",
    "            kde = gaussian_kde(values)\n",
    "            \n",
    "            # Calculate the probabilities for the values\n",
    "            probabilities = kde.evaluate(values)\n",
    "\n",
    "            #print(probabilities)\n",
    "            \n",
    "            # Normalize the probabilities to get a valid probability distribution\n",
    "            probabilities /= probabilities.sum()\n",
    "\n",
    "            #print(probabilities)\n",
    "            \n",
    "            # Select a new value based on the probability distribution\n",
    "            new_value = np.random.choice(values, p=probabilities)\n",
    "            return new_value\n",
    "        else:\n",
    "            # For other data types, use the existing _pwhs function\n",
    "            return super()._pwhs(current_value, values_list)\n",
    "    except Exception as e:\n",
    "        print(f\"Error in _pwhs: {e}\")\n",
    "        return np.random.choice(values_list)"
   ]
  },
  {
   "cell_type": "code",
   "execution_count": 43,
   "id": "04db6ecd-4a7e-4519-b783-d340cff70224",
   "metadata": {},
   "outputs": [],
   "source": [
    "current_value   = 10"
   ]
  },
  {
   "cell_type": "code",
   "execution_count": 44,
   "id": "913ce753-7bb7-4521-bf4b-9f8ea495caca",
   "metadata": {},
   "outputs": [],
   "source": [
    "values_list = [1,2,3,4,5,6,7,8,9,10]"
   ]
  },
  {
   "cell_type": "code",
   "execution_count": 54,
   "id": "0afcd1b5-39d3-402a-8c6c-1ca9e6ffb9be",
   "metadata": {},
   "outputs": [
    {
     "name": "stdout",
     "output_type": "stream",
     "text": [
      "Current Value Index: 9\n",
      "Current Value: 10\n",
      "Values List: [1, 2, 3, 4, 5, 6, 7, 8, 9, 10]\n",
      "Distances: [9, 8, 7, 6, 5, 4, 3, 2, 1, 0]\n",
      "Probabilities: [0.07917373417286576, 0.08005834774926694, 0.08117802679582094, 0.08264065472875294, 0.0846319006054133, 0.08750050848330332, 0.09198675548670186, 0.09998077704081539, 0.11811333204356576, 0.1947359628934939]\n",
      "New Value: 7\n"
     ]
    },
    {
     "data": {
      "text/plain": [
       "7"
      ]
     },
     "execution_count": 54,
     "metadata": {},
     "output_type": "execute_result"
    }
   ],
   "source": [
    "_pwhs(current_value, values_list)"
   ]
  },
  {
   "cell_type": "code",
   "execution_count": null,
   "id": "f43d9d93-4b1b-421b-bb1c-757d5018fe31",
   "metadata": {},
   "outputs": [],
   "source": []
  }
 ],
 "metadata": {
  "kernelspec": {
   "display_name": "Python 3 (ipykernel)",
   "language": "python",
   "name": "python3"
  },
  "language_info": {
   "codemirror_mode": {
    "name": "ipython",
    "version": 3
   },
   "file_extension": ".py",
   "mimetype": "text/x-python",
   "name": "python",
   "nbconvert_exporter": "python",
   "pygments_lexer": "ipython3",
   "version": "3.9.19"
  }
 },
 "nbformat": 4,
 "nbformat_minor": 5
}
