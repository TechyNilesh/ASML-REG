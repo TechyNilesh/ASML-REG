{
 "cells": [
  {
   "cell_type": "code",
   "execution_count": 1,
   "id": "86c1a881-2ecb-4539-93ae-cf3adbc8c213",
   "metadata": {},
   "outputs": [],
   "source": [
    "from ASML_REG import AutoStreamRegressor"
   ]
  },
  {
   "cell_type": "code",
   "execution_count": 2,
   "id": "185911d1-71a0-4897-9894-e08d6aea0f99",
   "metadata": {},
   "outputs": [],
   "source": [
    "import psutil\n",
    "import time\n",
    "import json"
   ]
  },
  {
   "cell_type": "code",
   "execution_count": 3,
   "id": "d93ffc03-78f2-4b8a-bf35-44562fbac78e",
   "metadata": {},
   "outputs": [],
   "source": [
    "from capymoa.stream import stream_from_file\n",
    "from capymoa.evaluation import RegressionEvaluator, RegressionWindowedEvaluator"
   ]
  },
  {
   "cell_type": "code",
   "execution_count": 4,
   "id": "49d94113-5d66-4f1a-96a8-5f1c75d94a42",
   "metadata": {},
   "outputs": [],
   "source": [
    "from river import metrics"
   ]
  },
  {
   "cell_type": "code",
   "execution_count": 5,
   "id": "54436fd2-deb3-4ec4-8fc9-ea574ac16904",
   "metadata": {},
   "outputs": [],
   "source": [
    "import warnings\n",
    "warnings.filterwarnings(\"ignore\")"
   ]
  },
  {
   "cell_type": "code",
   "execution_count": 6,
   "id": "6652c840-7b4d-465e-8de7-8ac09ab52528",
   "metadata": {},
   "outputs": [],
   "source": [
    "datasets = [\n",
    "    'ailerons',\n",
    "    'elevators',\n",
    "    'fried',\n",
    "    'hyperA',\n",
    "    'FriedmanGsg',\n",
    "    'FriedmanGra',\n",
    "    'FriedmanLea',\n",
    "    'kin8nm',\n",
    "    'abalone',\n",
    "    'bike',\n",
    "    'House8L',\n",
    "    'MetroTraffic',\n",
    "    'cpu_activity',\n",
    "    'white_wine',\n",
    "]"
   ]
  },
  {
   "cell_type": "code",
   "execution_count": 7,
   "id": "c5211dbd-01a4-4d90-9544-a80f81e9a74e",
   "metadata": {},
   "outputs": [],
   "source": [
    "dataset_name = 'abalone'"
   ]
  },
  {
   "cell_type": "code",
   "execution_count": 8,
   "id": "bbebf757-be24-4bf5-9318-8950ef635364",
   "metadata": {},
   "outputs": [],
   "source": [
    "stream = stream_from_file(f\"RDatasets/{dataset_name}.arff\")"
   ]
  },
  {
   "cell_type": "code",
   "execution_count": 9,
   "id": "db39343d-55ad-417f-a50c-0cc0448ea8d2",
   "metadata": {},
   "outputs": [],
   "source": [
    "regressionEvaluator = RegressionEvaluator(schema=stream.get_schema())\n",
    "regressionWindowedEvaluator = RegressionWindowedEvaluator(schema=stream.get_schema(),window_size=1000)"
   ]
  },
  {
   "cell_type": "code",
   "execution_count": 10,
   "id": "c3db8372-9879-407f-9042-b849d848c307",
   "metadata": {},
   "outputs": [],
   "source": [
    "ASR = AutoStreamRegressor(config_dict=None, # config_dict\n",
    "    exploration_window=1000, # Window Size\n",
    "    prediction_mode=\"ensemble\", #change 'best' or 'ensemble' if you want best model prediction \n",
    "    budget=10, # How many pipelines run concurrently\n",
    "    ensemble_size=5, # Ensemble size \n",
    "    metric=metrics.RMSE(), # Online metrics\n",
    "    feature_selection = True,\n",
    "    aggregation_method='mean', #mean, median\n",
    "    verbose=False,\n",
    "    seed=42) # Random/Fixed seed"
   ]
  },
  {
   "cell_type": "code",
   "execution_count": 11,
   "id": "650d1f73-1b81-4336-8659-68b01a2f27ef",
   "metadata": {},
   "outputs": [
    {
     "data": {
      "text/plain": [
       "16"
      ]
     },
     "execution_count": 11,
     "metadata": {},
     "output_type": "execute_result"
    }
   ],
   "source": [
    "len(ASR.pipeline_list)"
   ]
  },
  {
   "cell_type": "code",
   "execution_count": 12,
   "id": "ff1551f8-c72e-442d-b492-5ebe943c03ec",
   "metadata": {},
   "outputs": [
    {
     "name": "stdout",
     "output_type": "stream",
     "text": [
      "Running Instance **1000**\n",
      "R2 score - 0.75645\n",
      "RMSE score - 1.86395\n",
      "----------------------------------------\n",
      "Running Instance **2000**\n",
      "R2 score - 0.64079\n",
      "RMSE score - 2.22304\n",
      "----------------------------------------\n",
      "Running Instance **3000**\n",
      "R2 score - 0.62416\n",
      "RMSE score - 2.14489\n",
      "----------------------------------------\n",
      "Running Instance **4000**\n",
      "R2 score - 0.61431\n",
      "RMSE score - 2.10512\n",
      "----------------------------------------\n",
      "CPU times: user 4min 22s, sys: 3.2 s, total: 4min 25s\n",
      "Wall time: 5min 30s\n"
     ]
    }
   ],
   "source": [
    "%%time\n",
    "t=0\n",
    "times = []\n",
    "memories = []\n",
    "#track_pipes = []\n",
    "while stream.has_more_instances():\n",
    "    instance = stream.next_instance()\n",
    "    x = dict(enumerate(instance.x))\n",
    "    mem_before = psutil.Process().memory_info().rss # Recording Memory\n",
    "    start = time.time()  # Recording Time\n",
    "    #print(f\"true: {instance.y_value}\")\n",
    "    prediction = ASR.predict_one(x)\n",
    "    #print(f\"y_true: {instance.y_value}, y_pred: {prediction}\")\n",
    "    regressionEvaluator.update(instance.y_value, prediction)\n",
    "    regressionWindowedEvaluator.update(instance.y_value, prediction)\n",
    "    ASR.learn_one(x, instance.y_value)\n",
    "    end = time.time()\n",
    "    mem_after = psutil.Process().memory_info().rss\n",
    "    iteration_mem = mem_after - mem_before\n",
    "    memories.append(iteration_mem)\n",
    "    iteration_time = end - start\n",
    "    times.append(iteration_time)\n",
    "    t+=1\n",
    "    print(f\"Running Instance....{t}\",end='\\r')\n",
    "    if t%1000==0:\n",
    "        print(f\"Running Instance **{t}**\")\n",
    "        print(f\"R2 score - {round(regressionEvaluator.R2(),5)}\")\n",
    "        print(f\"RMSE score - {round(regressionEvaluator.RMSE(),5)}\")\n",
    "        print(\"-\"*40)"
   ]
  },
  {
   "cell_type": "code",
   "execution_count": 13,
   "id": "f8f7d8df-862a-4872-893e-454ba10a487a",
   "metadata": {},
   "outputs": [
    {
     "data": {
      "text/plain": [
       "{'classified instances': 4977.0,\n",
       " 'mean absolute error': 1.4723384211230481,\n",
       " 'root mean squared error': 2.1048947925747306,\n",
       " 'relative mean absolute error': 0.5802732355395288,\n",
       " 'relative root mean squared error': 0.6310772782503957,\n",
       " 'coefficient of determination': 0.6017414688760725,\n",
       " 'adjusted coefficient of determination': 0.6010198407745796}"
      ]
     },
     "execution_count": 13,
     "metadata": {},
     "output_type": "execute_result"
    }
   ],
   "source": [
    "regressionEvaluator.metrics_dict()"
   ]
  },
  {
   "cell_type": "code",
   "execution_count": 14,
   "id": "d6d0332f-2856-451e-a2d8-ccc1b2a1bc0a",
   "metadata": {},
   "outputs": [
    {
     "data": {
      "text/html": [
       "<div>\n",
       "<style scoped>\n",
       "    .dataframe tbody tr th:only-of-type {\n",
       "        vertical-align: middle;\n",
       "    }\n",
       "\n",
       "    .dataframe tbody tr th {\n",
       "        vertical-align: top;\n",
       "    }\n",
       "\n",
       "    .dataframe thead th {\n",
       "        text-align: right;\n",
       "    }\n",
       "</style>\n",
       "<table border=\"1\" class=\"dataframe\">\n",
       "  <thead>\n",
       "    <tr style=\"text-align: right;\">\n",
       "      <th></th>\n",
       "      <th>classified instances</th>\n",
       "      <th>mean absolute error</th>\n",
       "      <th>root mean squared error</th>\n",
       "      <th>relative mean absolute error</th>\n",
       "      <th>relative root mean squared error</th>\n",
       "      <th>coefficient of determination</th>\n",
       "      <th>adjusted coefficient of determination</th>\n",
       "    </tr>\n",
       "  </thead>\n",
       "  <tbody>\n",
       "    <tr>\n",
       "      <th>0</th>\n",
       "      <td>1000.0</td>\n",
       "      <td>1.280362</td>\n",
       "      <td>1.863951</td>\n",
       "      <td>0.435280</td>\n",
       "      <td>0.493997</td>\n",
       "      <td>0.755967</td>\n",
       "      <td>0.753749</td>\n",
       "    </tr>\n",
       "    <tr>\n",
       "      <th>1</th>\n",
       "      <td>1000.0</td>\n",
       "      <td>1.830959</td>\n",
       "      <td>2.531704</td>\n",
       "      <td>0.650878</td>\n",
       "      <td>0.699065</td>\n",
       "      <td>0.511309</td>\n",
       "      <td>0.506866</td>\n",
       "    </tr>\n",
       "    <tr>\n",
       "      <th>2</th>\n",
       "      <td>1000.0</td>\n",
       "      <td>1.373937</td>\n",
       "      <td>1.979341</td>\n",
       "      <td>0.627352</td>\n",
       "      <td>0.646168</td>\n",
       "      <td>0.582466</td>\n",
       "      <td>0.578671</td>\n",
       "    </tr>\n",
       "    <tr>\n",
       "      <th>3</th>\n",
       "      <td>1000.0</td>\n",
       "      <td>1.424874</td>\n",
       "      <td>1.981018</td>\n",
       "      <td>0.628206</td>\n",
       "      <td>0.648783</td>\n",
       "      <td>0.579081</td>\n",
       "      <td>0.575254</td>\n",
       "    </tr>\n",
       "  </tbody>\n",
       "</table>\n",
       "</div>"
      ],
      "text/plain": [
       "   classified instances  mean absolute error  root mean squared error  \\\n",
       "0                1000.0             1.280362                 1.863951   \n",
       "1                1000.0             1.830959                 2.531704   \n",
       "2                1000.0             1.373937                 1.979341   \n",
       "3                1000.0             1.424874                 1.981018   \n",
       "\n",
       "   relative mean absolute error  relative root mean squared error  \\\n",
       "0                      0.435280                          0.493997   \n",
       "1                      0.650878                          0.699065   \n",
       "2                      0.627352                          0.646168   \n",
       "3                      0.628206                          0.648783   \n",
       "\n",
       "   coefficient of determination  adjusted coefficient of determination  \n",
       "0                      0.755967                               0.753749  \n",
       "1                      0.511309                               0.506866  \n",
       "2                      0.582466                               0.578671  \n",
       "3                      0.579081                               0.575254  "
      ]
     },
     "execution_count": 14,
     "metadata": {},
     "output_type": "execute_result"
    }
   ],
   "source": [
    "regressionWindowedEvaluator.metrics_per_window()"
   ]
  },
  {
   "cell_type": "code",
   "execution_count": 15,
   "id": "d8794d26-7d81-41ad-a33d-7479884d093f",
   "metadata": {},
   "outputs": [],
   "source": [
    "# saving results in dict\n",
    "save_record = {\n",
    "    \"model\": 'ASML_REG',\n",
    "    \"dataset\": dataset_name,\n",
    "    \"regressionEvaluator\": regressionEvaluator.metrics_dict(),\n",
    "    \"windows_scores\": regressionWindowedEvaluator.metrics_per_window().to_dict(orient='list'),\n",
    "    \"time\": times,\n",
    "    \"memory\": memories\n",
    "}"
   ]
  },
  {
   "cell_type": "code",
   "execution_count": 16,
   "id": "7d51edc6-6d72-4271-8562-48587afb019e",
   "metadata": {},
   "outputs": [],
   "source": [
    "file_name = f\"{save_record['model']}_{save_record['dataset']}.json\""
   ]
  },
  {
   "cell_type": "code",
   "execution_count": 17,
   "id": "4a380026-fc95-4d55-beed-178e05090aaf",
   "metadata": {},
   "outputs": [
    {
     "data": {
      "text/plain": [
       "'ASML_REG_abalone.json'"
      ]
     },
     "execution_count": 17,
     "metadata": {},
     "output_type": "execute_result"
    }
   ],
   "source": [
    "file_name"
   ]
  },
  {
   "cell_type": "code",
   "execution_count": 56,
   "id": "4b18b79a-8758-4a94-b87e-a03db789e423",
   "metadata": {},
   "outputs": [],
   "source": [
    "# To store the dictionary in a JSON file\n",
    "with open(f\"TEMP/{file_name}\", 'w') as json_file:  # change temp to  saved_results_json for final run\n",
    "    json.dump(save_record, json_file)"
   ]
  }
 ],
 "metadata": {
  "kernelspec": {
   "display_name": "Python 3 (ipykernel)",
   "language": "python",
   "name": "python3"
  },
  "language_info": {
   "codemirror_mode": {
    "name": "ipython",
    "version": 3
   },
   "file_extension": ".py",
   "mimetype": "text/x-python",
   "name": "python",
   "nbconvert_exporter": "python",
   "pygments_lexer": "ipython3",
   "version": "3.9.19"
  }
 },
 "nbformat": 4,
 "nbformat_minor": 5
}
